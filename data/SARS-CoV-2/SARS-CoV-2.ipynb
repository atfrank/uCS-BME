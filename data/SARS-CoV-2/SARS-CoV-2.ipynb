{
 "cells": [
  {
   "cell_type": "markdown",
   "metadata": {
    "id": "cwsfV8cBnw1Y"
   },
   "source": [
    "# Application of uCS-BME to 3'- and 5'-UTRs of the SARS-CoV-2 "
   ]
  },
  {
   "cell_type": "markdown",
   "metadata": {
    "id": "idu-bdpPnw1e",
    "tags": []
   },
   "source": [
    "# Required imports"
   ]
  },
  {
   "cell_type": "code",
   "execution_count": 7,
   "metadata": {},
   "outputs": [
    {
     "name": "stdout",
     "output_type": "stream",
     "text": [
      "Defaulting to user installation because normal site-packages is not writeable\n",
      "Requirement already satisfied: sklearn in /Users/aaronfranklab/.local/lib/python3.8/site-packages (0.0)\n",
      "Requirement already satisfied: seaborn in /Users/aaronfranklab/.local/lib/python3.8/site-packages (0.11.2)\n",
      "Requirement already satisfied: matplotlib in /Applications/JupyterLab.app/Contents/Resources/jlab_server/lib/python3.8/site-packages (3.4.3)\n",
      "Requirement already satisfied: tqdm in /Applications/JupyterLab.app/Contents/Resources/jlab_server/lib/python3.8/site-packages (4.62.3)\n",
      "Requirement already satisfied: scikit-learn in /Users/aaronfranklab/.local/lib/python3.8/site-packages (from sklearn) (1.0.2)\n",
      "Requirement already satisfied: scipy>=1.0 in /Applications/JupyterLab.app/Contents/Resources/jlab_server/lib/python3.8/site-packages (from seaborn) (1.7.1)\n",
      "Requirement already satisfied: numpy>=1.15 in /Applications/JupyterLab.app/Contents/Resources/jlab_server/lib/python3.8/site-packages (from seaborn) (1.21.2)\n",
      "Requirement already satisfied: pandas>=0.23 in /Applications/JupyterLab.app/Contents/Resources/jlab_server/lib/python3.8/site-packages (from seaborn) (1.3.3)\n",
      "Requirement already satisfied: pyparsing>=2.2.1 in /Applications/JupyterLab.app/Contents/Resources/jlab_server/lib/python3.8/site-packages (from matplotlib) (2.4.7)\n",
      "Requirement already satisfied: python-dateutil>=2.7 in /Applications/JupyterLab.app/Contents/Resources/jlab_server/lib/python3.8/site-packages (from matplotlib) (2.8.2)\n",
      "Requirement already satisfied: cycler>=0.10 in /Applications/JupyterLab.app/Contents/Resources/jlab_server/lib/python3.8/site-packages (from matplotlib) (0.10.0)\n",
      "Requirement already satisfied: pillow>=6.2.0 in /Applications/JupyterLab.app/Contents/Resources/jlab_server/lib/python3.8/site-packages (from matplotlib) (8.3.2)\n",
      "Requirement already satisfied: kiwisolver>=1.0.1 in /Applications/JupyterLab.app/Contents/Resources/jlab_server/lib/python3.8/site-packages (from matplotlib) (1.3.2)\n",
      "Requirement already satisfied: six in /Applications/JupyterLab.app/Contents/Resources/jlab_server/lib/python3.8/site-packages (from cycler>=0.10->matplotlib) (1.16.0)\n",
      "Requirement already satisfied: pytz>=2017.3 in /Applications/JupyterLab.app/Contents/Resources/jlab_server/lib/python3.8/site-packages (from pandas>=0.23->seaborn) (2021.1)\n",
      "Requirement already satisfied: threadpoolctl>=2.0.0 in /Users/aaronfranklab/.local/lib/python3.8/site-packages (from scikit-learn->sklearn) (3.0.0)\n",
      "Requirement already satisfied: joblib>=0.11 in /Users/aaronfranklab/.local/lib/python3.8/site-packages (from scikit-learn->sklearn) (1.1.0)\n"
     ]
    }
   ],
   "source": [
    "!pip install sklearn seaborn matplotlib tqdm"
   ]
  },
  {
   "cell_type": "code",
   "execution_count": 9,
   "metadata": {},
   "outputs": [],
   "source": [
    "import os\n",
    "from BME import BME as bme\n",
    "import pandas as pd\n",
    "import numpy as np\n",
    "from reweighting import *\n",
    "from PyRNA import *\n",
    "from itertools import combinations, permutations\n",
    "from collections import namedtuple\n",
    "import seaborn as sns\n",
    "import matplotlib.pyplot as plt\n",
    "from tqdm import tqdm\n",
    "import shutil\n",
    "\n",
    "import matplotlib\n",
    "from matplotlib.pyplot import hist2d\n",
    "matplotlib.rcParams['pdf.fonttype'] = 42\n",
    "matplotlib.rcParams['ps.fonttype'] = 42\n",
    "matplotlib.rcParams['mathtext.fontset'] = 'cm'\n",
    "matplotlib.rcParams['font.family'] = 'sans-serif'\n",
    "matplotlib.rcParams['font.sans-serif'] = ['Tahoma']"
   ]
  },
  {
   "cell_type": "markdown",
   "metadata": {
    "id": "Po74nnYfnw1v",
    "tags": []
   },
   "source": [
    "# BME with Unassigned Data"
   ]
  },
  {
   "cell_type": "code",
   "execution_count": 12,
   "metadata": {},
   "outputs": [
    {
     "name": "stderr",
     "output_type": "stream",
     "text": [
      "100%|██████████| 10/10 [00:08<00:00,  1.20it/s]"
     ]
    },
    {
     "name": "stdout",
     "output_type": "stream",
     "text": [
      "Performing 5-fold cross validation for 200 theta values\n",
      "Output files are written to theta_scan_data/tmp/5_UTR_0_0/\n",
      "[------------------------------------------------------------] 0.0% ...\r"
     ]
    },
    {
     "name": "stderr",
     "output_type": "stream",
     "text": [
      "\n"
     ]
    },
    {
     "name": "stdout",
     "output_type": "stream",
     "text": [
      "[============================================================] 100.0% ...\n",
      "\n",
      "Optimal theta: 100.00\n",
      "Validation error reduction 1.002\n",
      "Training error reduction 0.999\n",
      "Fraction of effective frames  0.998\n"
     ]
    }
   ],
   "source": [
    "# read in experimential 2D peaks \n",
    "top = 500\n",
    "testing = False\n",
    "if testing: top = 10\n",
    "IDs = ['3_HVR', '5_UTR', '3_UTR']\n",
    "IDs = ['5_UTR', '3_UTR']\n",
    "N_errors = [1.86, 1.87, 1.88, 1.89, 1.90, 1.91, 1.92]\n",
    "H_errors = [0.36, 0.37, 0.38, 0.39, 0.40, 0.41, 0.42]\n",
    "for ID in IDs:\n",
    "    # read in experimental 2D peaks\n",
    "    expcs_paired = read_peaks('SARS-CoV-2/%s/iminos_experimental.csv'%(ID))\n",
    "\n",
    "    # read in simulated chemical shifts and convert to 2D peaks\n",
    "    simcs = read_computed_cs('SARS-CoV-2/%s/iminos_simulated.csv'%(ID), names = ['model', 'resid', 'resname', 'nucleus', 'simcs', 'id'])\n",
    "    simcs = simcs[simcs.model < top+1]\n",
    "    simcs = pd.concat([simcs[simcs.resname.isin(['GUA']) & simcs.nucleus.isin(['N1', 'H1'])], simcs[simcs.resname.isin(['URA']) & simcs.nucleus.isin(['N3', 'H3'])]])\n",
    "    simcs_paired = create_paired_data_simulated(simcs, csname = \"simcs\", debug = False, pairing = {\"H1\":\"N1\", \"H3\":\"N3\"})\n",
    "\n",
    "    # generate histograms\n",
    "    for error_index_N in range(0, len(N_errors)):\n",
    "        for error_index_H in range(0, len(H_errors)):\n",
    "            expcs_hist, simcs_hist = create_histogram_data(expcs_paired, simcs_paired, xrange = [expcs_paired['F1'].min(),expcs_paired['F1'].max()], xgrid_size = N_errors[error_index_N], yrange = [expcs_paired['F2'].min(), expcs_paired['F2'].max()], ygrid_size = H_errors[error_index_H], x_name = \"F1\", y_name = \"F2\")\n",
    "\n",
    "            # get priors\n",
    "            energy = pd.read_csv(\"SARS-CoV-2/%s/energies.csv\"%ID, delim_whitespace = True, header = None)\n",
    "            energy.columns = ['model', 'E']\n",
    "\n",
    "            # only retain data for the top N conformers\n",
    "            sub_simcs_hist = {}\n",
    "            sub_E = []\n",
    "            for i in range(1, top+1):\n",
    "                sub_simcs_hist[i] =  simcs_hist[i]  \n",
    "                sub_E.append(energy.E[i-1])\n",
    "\n",
    "            w0 = boltzmann_weight(np.array(sub_E), T = 310)\n",
    "            w0 = w0/np.sum(w0)\n",
    "\n",
    "\n",
    "            # write files for BME\n",
    "            bme_exp = \"data/bme_exp.dat\"\n",
    "            bme_sim = \"data/bme_sim.dat\"\n",
    "            expcs_bme, simcs_bme = write_BME_chemical_shifts_unassigned(expcs_hist, simcs_hist, output_name_exp = \"data/bme_exp.dat\", output_name_sim = \"data/bme_sim.dat\", error = 1)\n",
    "            bmea = bme.Reweight(\"test\")     \n",
    "            bmea.load(bme_exp , bme_sim)\n",
    "            \n",
    "            theta, avg_phi = bmea.theta_scan(\"data/tmp/%s_%s_%s/\"%(ID, error_index_N, error_index_H), [i for i in np.linspace(1,100, 200)])\n",
    "            optimal_weights, chi2_before, chi2_after, srel = find_weights(bme_exp , bme_sim, theta = theta)\n",
    "\n",
    "            # collect data\n",
    "            n_conformers = len(optimal_weights)\n",
    "            weights = pd.DataFrame({\"model\": [i for i in range(1, n_conformers+1)], \"energy\": sub_E, \"w\": optimal_weights, \"errors\": [ np.sum(np.abs(expcs_hist - simcs_hist[i])) for i in range(1, 1+n_conformers)]})\n",
    "            weights = weights.round(5)\n",
    "            weights.sort_values(by=\"w\")\n",
    "            weights.plot(x = \"w\", y = \"errors\", kind = \"scatter\")\n",
    "            plt.savefig(\"figure_histogram_errors_%s_best_%s_%s.pdf\"%(ID, error_index_N, error_index_H))\n",
    "\n",
    "            # plot CS-BME\n",
    "            xlim = (expcs_paired['F1'].min(), expcs_paired['F1'].max())\n",
    "            ylim = (expcs_paired['F2'].min(), expcs_paired['F2'].max())\n",
    "            xgrid_size = N_errors[error_index_N]\n",
    "            ygrid_size = H_errors[error_index_H]\n",
    "            xbins = int((xlim[1] - xlim[0])/xgrid_size)\n",
    "            ybins = int((ylim[1] - ylim[0])/ygrid_size)\n",
    "            best = weights.model[np.argmax(weights.w.values)]\n",
    "            diff = np.sum(np.abs(expcs_hist - simcs_hist[best]))\n",
    "            title = \"highest weighted [%s]: E = %4.1f histogram error = %i\"%(best, energy.E[best-1], diff)\n",
    "            plt.figure()  # create a new figure\n",
    "            ax = plt.subplot(222) # create the left-side subplot\n",
    "            expcs_paired.plot(ax=ax, kind = \"scatter\", x=\"F1\", y=\"F2\", c = \"red\", xlim = xlim, ylim = ylim, title = title)\n",
    "            simcs_paired[best].plot(ax=ax, kind = \"scatter\", x=\"F1\", y=\"F2\", c = \"blue\", xlim = xlim, ylim = ylim)\n",
    "            ax.set_xticks(np.geomspace(xlim[0],xlim[1],xbins), minor=True )\n",
    "            ax.set_yticks(np.geomspace(ylim[0],ylim[1],ybins), minor=True )\n",
    "            ax.grid('on', which='minor', axis='x' )\n",
    "            ax.grid('on', which='minor', axis='y' )\n",
    "            ax.tick_params(which='major', length=0, axis='x')\n",
    "            ax.tick_params(which='major', length=0, axis='y')\n",
    "            plt.savefig(\"figure_%s_best_%s_%s.pdf\"%(ID, error_index_N, error_index_H))\n",
    "\n",
    "            # copy CT files\n",
    "            oldfile = \"SARS-CoV-2/%s/user_all_%s.ct\"%(ID, best)\n",
    "            newfile = \"SARS-CoV-2/Best/%s_CSBME_%s_%s.ct\"%(ID, error_index_N, error_index_H)\n",
    "            shutil.copyfile(oldfile, newfile)\n",
    "\n",
    "            # plot Best\n",
    "            best = 1\n",
    "            diff = np.sum(np.abs(expcs_hist - simcs_hist[best]))\n",
    "            title = \"lowest energy[1]: E = %4.1f histogram error = %i\"%(energy.E[best-1], diff)\n",
    "            plt.figure()  # create a new figure\n",
    "            ax = plt.subplot(222) # create the left-side subplot\n",
    "            expcs_paired.plot(ax=ax, kind = \"scatter\", x=\"F1\", y=\"F2\", c = \"red\", xlim = xlim, ylim = ylim, title = title)\n",
    "            simcs_paired[best].plot(ax=ax, kind = \"scatter\", x=\"F1\", y=\"F2\", c = \"blue\", xlim = xlim, ylim = ylim)\n",
    "            ax.set_xticks(np.geomspace(xlim[0],xlim[1],xbins), minor=True )\n",
    "            ax.set_yticks(np.geomspace(ylim[0],ylim[1],ybins), minor=True )\n",
    "            ax.grid('on', which='minor', axis='x' )\n",
    "            ax.grid('on', which='minor', axis='y' )\n",
    "            ax.tick_params(which='major', length=0, axis='x')\n",
    "            ax.tick_params(which='major', length=0, axis='y')\n",
    "            plt.savefig(\"figure_%s_lowest_%s_%s.pdf\"%(ID, error_index_N, error_index_H))\n",
    "            plt.close('all')\n",
    "            if testing: break\n",
    "        if testing: break\n",
    "    if testing: break\n",
    "\n",
    "    # copy CT files\n",
    "    oldfile = \"SARS-CoV-2/%s/user_all_%s.ct\"%(ID, 1)\n",
    "    newfile = \"SARS-CoV-2/Best/%s_Fold.ct\"%(ID)\n",
    "    shutil.copyfile(oldfile, newfile)"
   ]
  },
  {
   "cell_type": "code",
   "execution_count": 3,
   "metadata": {},
   "outputs": [
    {
     "name": "stdout",
     "output_type": "stream",
     "text": [
      "5_UTR 0 0 1.86 0.36 TPR PPV\n",
      "5_UTR 0 1 1.86 0.37 TPR PPV\n",
      "5_UTR 0 2 1.86 0.38 TPR PPV\n",
      "5_UTR 0 3 1.86 0.39 TPR PPV\n",
      "5_UTR 0 4 1.86 0.4 TPR PPV\n",
      "5_UTR 0 5 1.86 0.41 TPR PPV\n",
      "5_UTR 0 6 1.86 0.42 TPR PPV\n",
      "5_UTR 1 0 1.87 0.36 TPR PPV\n",
      "5_UTR 1 1 1.87 0.37 TPR PPV\n",
      "5_UTR 1 2 1.87 0.38 TPR PPV\n",
      "5_UTR 1 3 1.87 0.39 TPR PPV\n",
      "5_UTR 1 4 1.87 0.4 TPR PPV\n",
      "5_UTR 1 5 1.87 0.41 TPR PPV\n",
      "5_UTR 1 6 1.87 0.42 TPR PPV\n",
      "5_UTR 2 0 1.88 0.36 TPR PPV\n",
      "5_UTR 2 1 1.88 0.37 TPR PPV\n",
      "5_UTR 2 2 1.88 0.38 TPR PPV\n",
      "5_UTR 2 3 1.88 0.39 TPR PPV\n",
      "5_UTR 2 4 1.88 0.4 TPR PPV\n",
      "5_UTR 2 5 1.88 0.41 TPR PPV\n",
      "5_UTR 2 6 1.88 0.42 TPR PPV\n",
      "5_UTR 3 0 1.89 0.36 TPR PPV\n",
      "5_UTR 3 1 1.89 0.37 TPR PPV\n",
      "5_UTR 3 2 1.89 0.38 TPR PPV\n",
      "5_UTR 3 3 1.89 0.39 TPR PPV\n",
      "5_UTR 3 4 1.89 0.4 TPR PPV\n",
      "5_UTR 3 5 1.89 0.41 TPR PPV\n",
      "5_UTR 3 6 1.89 0.42 TPR PPV\n",
      "5_UTR 4 0 1.9 0.36 TPR PPV\n",
      "5_UTR 4 1 1.9 0.37 TPR PPV\n",
      "5_UTR 4 2 1.9 0.38 TPR PPV\n",
      "5_UTR 4 3 1.9 0.39 TPR PPV\n",
      "5_UTR 4 4 1.9 0.4 TPR PPV\n",
      "5_UTR 4 5 1.9 0.41 TPR PPV\n",
      "5_UTR 4 6 1.9 0.42 TPR PPV\n",
      "5_UTR 5 0 1.91 0.36 TPR PPV\n",
      "5_UTR 5 1 1.91 0.37 TPR PPV\n",
      "5_UTR 5 2 1.91 0.38 TPR PPV\n",
      "5_UTR 5 3 1.91 0.39 TPR PPV\n",
      "5_UTR 5 4 1.91 0.4 TPR PPV\n",
      "5_UTR 5 5 1.91 0.41 TPR PPV\n",
      "5_UTR 5 6 1.91 0.42 TPR PPV\n",
      "5_UTR 6 0 1.92 0.36 TPR PPV\n",
      "5_UTR 6 1 1.92 0.37 TPR PPV\n",
      "5_UTR 6 2 1.92 0.38 TPR PPV\n",
      "5_UTR 6 3 1.92 0.39 TPR PPV\n",
      "5_UTR 6 4 1.92 0.4 TPR PPV\n",
      "5_UTR 6 5 1.92 0.41 TPR PPV\n",
      "5_UTR 6 6 1.92 0.42 TPR PPV\n",
      "3_UTR 0 0 1.86 0.36 TPR PPV\n",
      "3_UTR 0 1 1.86 0.37 TPR PPV\n",
      "3_UTR 0 2 1.86 0.38 TPR PPV\n",
      "3_UTR 0 3 1.86 0.39 TPR PPV\n",
      "3_UTR 0 4 1.86 0.4 TPR PPV\n",
      "3_UTR 0 5 1.86 0.41 TPR PPV\n",
      "3_UTR 0 6 1.86 0.42 TPR PPV\n",
      "3_UTR 1 0 1.87 0.36 TPR PPV\n",
      "3_UTR 1 1 1.87 0.37 TPR PPV\n",
      "3_UTR 1 2 1.87 0.38 TPR PPV\n",
      "3_UTR 1 3 1.87 0.39 TPR PPV\n",
      "3_UTR 1 4 1.87 0.4 TPR PPV\n",
      "3_UTR 1 5 1.87 0.41 TPR PPV\n",
      "3_UTR 1 6 1.87 0.42 TPR PPV\n",
      "3_UTR 2 0 1.88 0.36 TPR PPV\n",
      "3_UTR 2 1 1.88 0.37 TPR PPV\n",
      "3_UTR 2 2 1.88 0.38 TPR PPV\n",
      "3_UTR 2 3 1.88 0.39 TPR PPV\n",
      "3_UTR 2 4 1.88 0.4 TPR PPV\n",
      "3_UTR 2 5 1.88 0.41 TPR PPV\n",
      "3_UTR 2 6 1.88 0.42 TPR PPV\n",
      "3_UTR 3 0 1.89 0.36 TPR PPV\n",
      "3_UTR 3 1 1.89 0.37 TPR PPV\n",
      "3_UTR 3 2 1.89 0.38 TPR PPV\n",
      "3_UTR 3 3 1.89 0.39 TPR PPV\n",
      "3_UTR 3 4 1.89 0.4 TPR PPV\n",
      "3_UTR 3 5 1.89 0.41 TPR PPV\n",
      "3_UTR 3 6 1.89 0.42 TPR PPV\n",
      "3_UTR 4 0 1.9 0.36 TPR PPV\n",
      "3_UTR 4 1 1.9 0.37 TPR PPV\n",
      "3_UTR 4 2 1.9 0.38 TPR PPV\n",
      "3_UTR 4 3 1.9 0.39 TPR PPV\n",
      "3_UTR 4 4 1.9 0.4 TPR PPV\n",
      "3_UTR 4 5 1.9 0.41 TPR PPV\n",
      "3_UTR 4 6 1.9 0.42 TPR PPV\n",
      "3_UTR 5 0 1.91 0.36 TPR PPV\n",
      "3_UTR 5 1 1.91 0.37 TPR PPV\n",
      "3_UTR 5 2 1.91 0.38 TPR PPV\n",
      "3_UTR 5 3 1.91 0.39 TPR PPV\n",
      "3_UTR 5 4 1.91 0.4 TPR PPV\n",
      "3_UTR 5 5 1.91 0.41 TPR PPV\n",
      "3_UTR 5 6 1.91 0.42 TPR PPV\n",
      "3_UTR 6 0 1.92 0.36 TPR PPV\n",
      "3_UTR 6 1 1.92 0.37 TPR PPV\n",
      "3_UTR 6 2 1.92 0.38 TPR PPV\n",
      "3_UTR 6 3 1.92 0.39 TPR PPV\n",
      "3_UTR 6 4 1.92 0.4 TPR PPV\n",
      "3_UTR 6 5 1.92 0.41 TPR PPV\n",
      "3_UTR 6 6 1.92 0.42 TPR PPV\n"
     ]
    }
   ],
   "source": [
    "N_grid, H_grid = [],[]\n",
    "for ID in IDs:\n",
    "    for i,N in enumerate(N_errors):\n",
    "        for j, H in enumerate(H_errors):\n",
    "            print(ID, i, j, N, H, \"TPR\", \"PPV\")\n",
    "    "
   ]
  }
 ],
 "metadata": {
  "colab": {
   "collapsed_sections": [],
   "name": "2D-HIV-TAR-BME-Sampler.ipynb",
   "provenance": []
  },
  "kernelspec": {
   "display_name": "Python 3 (ipykernel)",
   "language": "python",
   "name": "python3"
  },
  "language_info": {
   "codemirror_mode": {
    "name": "ipython",
    "version": 3
   },
   "file_extension": ".py",
   "mimetype": "text/x-python",
   "name": "python",
   "nbconvert_exporter": "python",
   "pygments_lexer": "ipython3",
   "version": "3.8.12"
  }
 },
 "nbformat": 4,
 "nbformat_minor": 4
}
