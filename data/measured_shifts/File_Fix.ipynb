{
 "cells": [
  {
   "cell_type": "code",
   "execution_count": 1,
   "id": "ec91db03-9591-4f51-a904-c2375bc05d62",
   "metadata": {},
   "outputs": [],
   "source": [
    "import pandas as pd\n",
    "import numpy as np"
   ]
  },
  {
   "cell_type": "code",
   "execution_count": 16,
   "id": "79d207d3-b5a6-4abc-9944-3060630018d7",
   "metadata": {},
   "outputs": [],
   "source": [
    "ID = \"2N82\"\n",
    "names = ['resname', 'resid', 'nucleus', 'expCS', 'NA']\n",
    "expcs = pd.read_csv(\"measured_shifts_\" + ID + \".txt\", delim_whitespace=True, header = None, names = names)\n",
    "expcs.resid = expcs.resid.to_numpy()-18\n",
    "expcs.to_csv(\"measured_shifts_2N7X_2.txt\", sep = \" \", index=False, header=None)"
   ]
  },
  {
   "cell_type": "code",
   "execution_count": 20,
   "id": "b178e7e0-889b-4924-bf6a-204822b09875",
   "metadata": {},
   "outputs": [],
   "source": [
    "ID = \"2N82\"\n",
    "names = ['resname', 'resid', 'nucleus', 'expCS', 'NA']\n",
    "expcs = pd.read_csv(\"measured_shifts_\" + ID + \".txt\", delim_whitespace=True, header = None, names = names)"
   ]
  },
  {
   "cell_type": "code",
   "execution_count": 22,
   "id": "b2695df9-1582-4368-9f62-7095605a08a1",
   "metadata": {},
   "outputs": [],
   "source": [
    "names = ['model', 'resid', 'resname', 'nucleus', 'simcs', 'id']\n",
    "simcs = pd.read_csv(\"../computed_shifts/2N82.csv\", delim_whitespace=True, header = None, names = names)"
   ]
  },
  {
   "cell_type": "code",
   "execution_count": 23,
   "id": "4d2f59ac-628b-4e9b-a931-86879df7a8ca",
   "metadata": {},
   "outputs": [
    {
     "data": {
      "text/plain": [
       "array([ 1,  2,  3,  4,  5,  6,  7,  8,  9, 10, 11, 12, 13, 14, 15, 16, 17,\n",
       "       18, 19, 20, 21, 22, 23], dtype=int64)"
      ]
     },
     "execution_count": 23,
     "metadata": {},
     "output_type": "execute_result"
    }
   ],
   "source": [
    "np.sort(simcs.resid.unique())"
   ]
  },
  {
   "cell_type": "code",
   "execution_count": 21,
   "id": "7818edcf-d8bb-483a-a6b7-1bf61d1ac7ab",
   "metadata": {},
   "outputs": [
    {
     "data": {
      "text/plain": [
       "array([ 19,  20,  21,  22,  23,  24,  25,  26,  27,  28,  29,  30,  31,\n",
       "        32,  33,  34,  35,  36,  37,  38,  39,  40,  41, 105, 106, 107,\n",
       "       108, 109, 110, 111, 112, 113, 114, 115, 116, 117, 118, 119, 120,\n",
       "       121, 122, 123, 124, 125, 126, 127, 128, 129, 130, 131, 132, 133,\n",
       "       134, 135, 136, 137, 138, 139, 140, 141, 142, 143, 144, 145, 146,\n",
       "       147, 148, 149, 150, 151, 152, 153, 154, 155, 156, 157, 158, 159,\n",
       "       160, 161, 162, 163, 164, 165, 166, 167, 168, 169, 170, 171, 172,\n",
       "       173, 174, 175, 176, 177, 178, 179, 180, 181, 182, 183, 184, 185,\n",
       "       186, 187, 188, 189, 190, 191, 192, 193, 194, 195, 196, 197, 198,\n",
       "       199, 200, 201, 202, 203, 204, 205, 206, 207, 208], dtype=int64)"
      ]
     },
     "execution_count": 21,
     "metadata": {},
     "output_type": "execute_result"
    }
   ],
   "source": [
    "np.sort(expcs.resid.unique())"
   ]
  },
  {
   "cell_type": "code",
   "execution_count": 24,
   "id": "413d0bd1-9431-43c3-87f6-0916b681e7a4",
   "metadata": {},
   "outputs": [],
   "source": [
    "expcs.resid = expcs.resid.to_numpy()-18"
   ]
  },
  {
   "cell_type": "code",
   "execution_count": 27,
   "id": "4e40fcf8-2501-454c-b229-60f3f78aff8c",
   "metadata": {},
   "outputs": [],
   "source": [
    "expcs.query(\"resid<=23\").to_csv(\"measured_shifts_2N82_2.txt\", sep = \" \", index=False, header=None)"
   ]
  }
 ],
 "metadata": {
  "kernelspec": {
   "display_name": "Python 3",
   "language": "python",
   "name": "python3"
  },
  "language_info": {
   "codemirror_mode": {
    "name": "ipython",
    "version": 3
   },
   "file_extension": ".py",
   "mimetype": "text/x-python",
   "name": "python",
   "nbconvert_exporter": "python",
   "pygments_lexer": "ipython3",
   "version": "3.7.11"
  }
 },
 "nbformat": 4,
 "nbformat_minor": 5
}
